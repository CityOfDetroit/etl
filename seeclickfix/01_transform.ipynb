{
 "cells": [
  {
   "cell_type": "code",
   "execution_count": 59,
   "metadata": {
    "collapsed": false
   },
   "outputs": [
    {
     "name": "stdout",
     "output_type": "stream",
     "text": [
      "(6019, 43)\n"
     ]
    }
   ],
   "source": [
    "import pandas as pd\n",
    "import numpy as np\n",
    "from datetime import datetime, timedelta\n",
    "\n",
    "# IMPORT OUR DATA AND PREP IT FOR ANALYSIS\n",
    "\n",
    "# set better console display\n",
    "pd.set_option('display.expand_frame_repr', False)\n",
    "\n",
    "# import the SeeClickFix issues csv as a dataframe\n",
    "scf_df = pd.read_csv('/Users/jessicamcinchak/Downloads/all_scf_issues.csv', encoding=\"latin1\", low_memory=False)\n",
    "\n",
    "# dict of Service Level Agreements by type with days committed to close\n",
    "sla_days_to_close = {\n",
    "    'Abandoned Vehicle': 5,\n",
    "    'Illegal Dumping / Illegal Dump Sites': 10,\n",
    "    'Tree Issue': 14,\n",
    "    'Potholes': 5,\n",
    "    'Residential Snow Removal Issue': 1,\n",
    "    'Traffic Signal Issue': 14,\n",
    "    'Traffic Sign Issue': 7,\n",
    "    'Street Light Pole Down': 2,\n",
    "    'New LED Street Light Out': 7,\n",
    "    'Dead Animal Removal': 3,\n",
    "    'Curbside Solid Waste Issue': 7,\n",
    "    'Running Water in a Home or Building': 1,\n",
    "    'Water Main Break': 1,\n",
    "    'Fire Hydrant Issue': 1,\n",
    "    'Manhole Cover Issue': 1,\n",
    "    'Blocked Catch Basin': 1,\n",
    "    'DPW - Debris Removal - DPW USE ONLY': 0,\n",
    "    'DPW - Other environmental': 0,\n",
    "    'Park Issue': 0 \n",
    "}\n",
    "\n",
    "# transform the SLA dict to a dataframe\n",
    "sla_df = pd.DataFrame(list(sla_days_to_close.items()), columns=['request_type_title', 'sla_days_to_close'])\n",
    "\n",
    "# check that scf_df dimensions (rows, cols) are as expected\n",
    "print(scf_df.shape)"
   ]
  },
  {
   "cell_type": "code",
   "execution_count": 60,
   "metadata": {
    "collapsed": false
   },
   "outputs": [
    {
     "name": "stdout",
     "output_type": "stream",
     "text": [
      "(6019, 49)\n"
     ]
    }
   ],
   "source": [
    "# scf_df['created_at'] and other timestamps are imported as objects by default\n",
    "# we want to transform them to be datetimes so we can resample and do math later\n",
    "\n",
    "# HELPER FUNCTIONS\n",
    "\n",
    "# reformats object as mm-dd-yyyy\n",
    "def getDate(obj):\n",
    "    return datetime.strptime(obj[:-6], '%Y-%m-%dT%H:%M:%S').strftime('%m-%d-%Y')\n",
    "\n",
    "# converts a timedelta to a float (eg '2 days 12:00:00' becomes '2.5')\n",
    "def makeFloat(td):\n",
    "    return td.total_seconds() / timedelta (days=1).total_seconds()\n",
    "\n",
    "# checks if issues are closed within their SLA; returns 1 if yes/under, 0 if no/over, or NaN if not yet closed\n",
    "def slaCheck(row):\n",
    "    if (row['days_create_to_close'] > 0):\n",
    "        if row['days_create_to_close'] < sla_days_to_close[row['request_type_title']]:\n",
    "            return 1\n",
    "        return 0\n",
    "    pass\n",
    "\n",
    "# NEW COLUMNS\n",
    "\n",
    "# add 1 new col, returns mm-dd-yyyy object\n",
    "scf_df['created_at_date'] = scf_df['created_at'].apply(lambda x: getDate(x))\n",
    "\n",
    "# add 2 new cols, transforms an object to datetime64[ns] type\n",
    "scf_df['created_at_datetime'] = pd.to_datetime(scf_df['created_at'])\n",
    "scf_df['closed_at_datetime'] = pd.to_datetime(scf_df['closed_at'])\n",
    "\n",
    "# add 1 new col with diff value, returns timedelta or NaT if the issue is not closed yet\n",
    "scf_df['diff_create_to_close'] = scf_df['closed_at_datetime'] - scf_df['created_at_datetime']\n",
    "\n",
    "# add 1 new col with fractional days, returns float or NaN if the issue is not closed yet\n",
    "scf_df['days_create_to_close'] = scf_df['diff_create_to_close'].apply(lambda x: makeFloat(x))\n",
    "\n",
    "# add 1 new col, indicates whether a closed issue is within its SLA\n",
    "scf_df['within_sla_bool'] = scf_df.apply(lambda row: slaCheck(row), axis=1)\n",
    "\n",
    "# check that we successfully added 6 new cols\n",
    "print(scf_df.shape)"
   ]
  },
  {
   "cell_type": "code",
   "execution_count": null,
   "metadata": {
    "collapsed": true
   },
   "outputs": [],
   "source": []
  }
 ],
 "metadata": {
  "kernelspec": {
   "display_name": "Python 3",
   "language": "python",
   "name": "python3"
  },
  "language_info": {
   "codemirror_mode": {
    "name": "ipython",
    "version": 3
   },
   "file_extension": ".py",
   "mimetype": "text/x-python",
   "name": "python",
   "nbconvert_exporter": "python",
   "pygments_lexer": "ipython3",
   "version": "3.6.0"
  }
 },
 "nbformat": 4,
 "nbformat_minor": 2
}
