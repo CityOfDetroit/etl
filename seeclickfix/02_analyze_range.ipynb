{
 "cells": [
  {
   "cell_type": "code",
   "execution_count": 1,
   "metadata": {
    "collapsed": true
   },
   "outputs": [],
   "source": [
    "%%capture\n",
    "%run 01_transform.ipynb"
   ]
  },
  {
   "cell_type": "code",
   "execution_count": 16,
   "metadata": {
    "collapsed": true
   },
   "outputs": [],
   "source": [
    "# SET YOUR OWN START AND END DATE FOR TIME RANGE ANALYSIS\n",
    "# use 'mm-dd-yyyy' format\n",
    "\n",
    "config = {\n",
    "    'start_date': '03-05-2017',\n",
    "    'end_date': '03-11-2017',\n",
    "    'export_path': 'metrics.csv',\n",
    "    'print_stacked': False\n",
    "}"
   ]
  },
  {
   "cell_type": "code",
   "execution_count": 9,
   "metadata": {
    "collapsed": false
   },
   "outputs": [
    {
     "name": "stdout",
     "output_type": "stream",
     "text": [
      "(1027, 49)\n"
     ]
    }
   ],
   "source": [
    "# FILTER SCF_DF FOR ISSUES WITHIN CONFIGURABLE DATE RANGE\n",
    "\n",
    "# convert object into datetime\n",
    "def makeDate(obj):\n",
    "    return datetime.strptime(obj, '%m-%d-%Y')\n",
    "\n",
    "# store datetime values\n",
    "a = scf_df['created_at_date'].apply(lambda x: makeDate(x))\n",
    "b = makeDate(config['start_date'])\n",
    "c = makeDate(config['end_date'])\n",
    "\n",
    "# do datetime comparisons, where 'start' and 'end' are booleans\n",
    "# filter for: start <= created_at_date <= end\n",
    "start = b <= a\n",
    "end = a <= c\n",
    "\n",
    "# filter all issues where start and end are True, set as new dataframe\n",
    "filtered_df = scf_df.loc[start & end]\n",
    "\n",
    "# check that we successfully filtered rows\n",
    "print(filtered_df.shape)"
   ]
  },
  {
   "cell_type": "code",
   "execution_count": 6,
   "metadata": {
    "collapsed": false
   },
   "outputs": [
    {
     "name": "stdout",
     "output_type": "stream",
     "text": [
      "Stats for 1027 issues created from 03-05-2017 to 03-11-2017\n"
     ]
    }
   ],
   "source": [
    "# METRICS START HERE\n",
    "\n",
    "print(\"\"\"Stats for {} issues created from {} to {}\"\"\".format(len(filtered_df.index), config['start_date'], config['end_date']))"
   ]
  },
  {
   "cell_type": "code",
   "execution_count": 10,
   "metadata": {
    "collapsed": false
   },
   "outputs": [
    {
     "name": "stdout",
     "output_type": "stream",
     "text": [
      "  request_status  number_issues\n",
      "0   Acknowledged            136\n",
      "1       Archived            659\n",
      "2         Closed            231\n",
      "3           Open              1\n"
     ]
    }
   ],
   "source": [
    "# count issues by status\n",
    "status_count_df = filtered_df.groupby('status', as_index=False)['created_at'].count()\n",
    "status_count_df.columns = ['request_status', 'number_issues']\n",
    "print(status_count_df)"
   ]
  },
  {
   "cell_type": "code",
   "execution_count": 11,
   "metadata": {
    "collapsed": false
   },
   "outputs": [
    {
     "name": "stdout",
     "output_type": "stream",
     "text": [
      "                      request_type_title  num_issues  num_closed\n",
      "0                      Abandoned Vehicle          57          41\n",
      "1                    Blocked Catch Basin          36           4\n",
      "2             Curbside Solid Waste Issue          73          71\n",
      "3    DPW - Debris Removal - DPW USE ONLY         103          97\n",
      "4              DPW - Other environmental         103         103\n",
      "5                    Dead Animal Removal          29          29\n",
      "6                     Fire Hydrant Issue           5           2\n",
      "7   Illegal Dumping / Illegal Dump Sites          87          70\n",
      "8                    Manhole Cover Issue          10           5\n",
      "9               New LED Street Light Out          33          33\n",
      "10                            Park Issue           1           0\n",
      "11                              Potholes          93          93\n",
      "12   Running Water in a Home or Building          22          21\n",
      "13                Street Light Pole Down          10          10\n",
      "14                    Traffic Sign Issue          41          41\n",
      "15                  Traffic Signal Issue          40          40\n",
      "16                            Tree Issue         258         202\n",
      "17                      Water Main Break          26          10\n"
     ]
    }
   ],
   "source": [
    "# count issues by type\n",
    "type_count_df = filtered_df.groupby('request_type_title', as_index=False)['created_at'].count()\n",
    "type_count_df.columns = ['request_type_title', 'num_issues']\n",
    "\n",
    "# count just the ones that have been closed (this is the denominator for median_days_create_to_close)\n",
    "type_closed_count_df = filtered_df.groupby('request_type_title', as_index=False)['closed_at'].count()\n",
    "type_closed_count_df.columns = ['request_type_title', 'num_closed']\n",
    "\n",
    "# merge and display as single dataframe\n",
    "volume_df = pd.merge(type_count_df, type_closed_count_df, on='request_type_title', how='outer')\n",
    "print(volume_df)"
   ]
  },
  {
   "cell_type": "code",
   "execution_count": 12,
   "metadata": {
    "collapsed": false
   },
   "outputs": [
    {
     "name": "stdout",
     "output_type": "stream",
     "text": [
      "                      request_type_title  median_days_create_to_close  sla_days_to_close\n",
      "0                      Abandoned Vehicle                     2.205602                  5\n",
      "1                    Blocked Catch Basin                     5.408027                  1\n",
      "2             Curbside Solid Waste Issue                     2.226019                  7\n",
      "3    DPW - Debris Removal - DPW USE ONLY                     6.932477                  0\n",
      "4              DPW - Other environmental                     1.985845                  0\n",
      "5                    Dead Animal Removal                     0.000475                  3\n",
      "6                     Fire Hydrant Issue                     9.841481                  1\n",
      "7   Illegal Dumping / Illegal Dump Sites                     2.295683                 10\n",
      "8                    Manhole Cover Issue                     0.438067                  1\n",
      "9               New LED Street Light Out                     3.712766                  7\n",
      "10                            Park Issue                          NaN                  0\n",
      "11                              Potholes                     0.898785                  5\n",
      "12   Running Water in a Home or Building                     1.116030                  1\n",
      "13                Street Light Pole Down                     0.843131                  2\n",
      "14                    Traffic Sign Issue                     4.585463                  7\n",
      "15                  Traffic Signal Issue                     0.616111                 14\n",
      "16                            Tree Issue                     2.805388                 14\n",
      "17                      Water Main Break                     0.535411                  1\n",
      "18        Residential Snow Removal Issue                          NaN                  1\n"
     ]
    }
   ],
   "source": [
    "# calculate median days from create to close for closed issues by type\n",
    "med_type_df = filtered_df.groupby('request_type_title', as_index=False)['days_create_to_close'].median()\n",
    "med_type_df.columns = ['request_type_title', 'median_days_create_to_close']\n",
    "\n",
    "# compare to SLAs for each type, merge and display as single dataframe\n",
    "days_compare_df = pd.merge(med_type_df, sla_df, on='request_type_title', how='outer')\n",
    "print(days_compare_df)"
   ]
  },
  {
   "cell_type": "code",
   "execution_count": 13,
   "metadata": {
    "collapsed": false
   },
   "outputs": [
    {
     "name": "stdout",
     "output_type": "stream",
     "text": [
      "                      request_type_title  num_issues  num_closed  num_within_sla  perc_within_sla\n",
      "0                      Abandoned Vehicle          57          41            29.0        70.731707\n",
      "1                    Blocked Catch Basin          36           4             0.0         0.000000\n",
      "2             Curbside Solid Waste Issue          73          71            68.0        95.774648\n",
      "3    DPW - Debris Removal - DPW USE ONLY         103          97             0.0         0.000000\n",
      "4              DPW - Other environmental         103         103             0.0         0.000000\n",
      "5                    Dead Animal Removal          29          29            29.0       100.000000\n",
      "6                     Fire Hydrant Issue           5           2             0.0         0.000000\n",
      "7   Illegal Dumping / Illegal Dump Sites          87          70            70.0       100.000000\n",
      "8                    Manhole Cover Issue          10           5             3.0        60.000000\n",
      "9               New LED Street Light Out          33          33            33.0       100.000000\n",
      "10                            Park Issue           1           0             NaN              NaN\n",
      "11                              Potholes          93          93            87.0        93.548387\n",
      "12   Running Water in a Home or Building          22          21             9.0        42.857143\n",
      "13                Street Light Pole Down          10          10            10.0       100.000000\n",
      "14                    Traffic Sign Issue          41          41            40.0        97.560976\n",
      "15                  Traffic Signal Issue          40          40            40.0       100.000000\n",
      "16                            Tree Issue         258         202           202.0       100.000000\n",
      "17                      Water Main Break          26          10             6.0        60.000000\n"
     ]
    }
   ],
   "source": [
    "# calculate number of issues by type that were closed within their SLA\n",
    "num_sla_df = filtered_df.groupby('request_type_title', as_index=False)['within_sla_bool'].sum()\n",
    "num_sla_df.columns = ['request_type_title', 'num_within_sla']\n",
    "\n",
    "# merge and display as single dataframe\n",
    "sla_df = pd.merge(volume_df, num_sla_df, on='request_type_title', how='outer')\n",
    "\n",
    "# add a new column with the percent; num_within_sla divided by num_closed, times 100 for readability\n",
    "sla_df['perc_within_sla'] = (sla_df['num_within_sla'] / sla_df['num_closed']) * 100\n",
    "print(sla_df)"
   ]
  },
  {
   "cell_type": "code",
   "execution_count": 14,
   "metadata": {
    "collapsed": false
   },
   "outputs": [
    {
     "name": "stdout",
     "output_type": "stream",
     "text": [
      "                      request_type_title  num_reopened  num_canonical\n",
      "0                      Abandoned Vehicle             1              0\n",
      "1                    Blocked Catch Basin             0              2\n",
      "2             Curbside Solid Waste Issue             1              2\n",
      "3    DPW - Debris Removal - DPW USE ONLY             1              0\n",
      "4              DPW - Other environmental             0              0\n",
      "5                    Dead Animal Removal             0              0\n",
      "6                     Fire Hydrant Issue             0              0\n",
      "7   Illegal Dumping / Illegal Dump Sites             2             14\n",
      "8                    Manhole Cover Issue             0              0\n",
      "9               New LED Street Light Out             0              0\n",
      "10                            Park Issue             0              0\n",
      "11                              Potholes             6              0\n",
      "12   Running Water in a Home or Building             0              0\n",
      "13                Street Light Pole Down             1              0\n",
      "14                    Traffic Sign Issue             0              0\n",
      "15                  Traffic Signal Issue             1              0\n",
      "16                            Tree Issue             4              0\n",
      "17                      Water Main Break             0              2\n"
     ]
    }
   ],
   "source": [
    "# count issues that were reopened by type\n",
    "reopened_type_df = filtered_df.groupby('request_type_title', as_index=False)['reopened_at'].count()\n",
    "reopened_type_df.columns = ['request_type_title', 'num_reopened']\n",
    "\n",
    "# count issues that are marked as canonical (aka top-level duplicate) by type\n",
    "canonical_type_df = filtered_df.groupby('request_type_title', as_index=False)['canonical_issue_id'].count()\n",
    "canonical_type_df.columns = ['request_type_title', 'num_canonical']\n",
    "\n",
    "# merge and display as single dataframe\n",
    "num_compare_df = pd.merge(reopened_type_df, canonical_type_df, on='request_type_title', how='outer')\n",
    "print(num_compare_df)"
   ]
  },
  {
   "cell_type": "code",
   "execution_count": 17,
   "metadata": {
    "collapsed": false
   },
   "outputs": [],
   "source": [
    "# EXPORT RESULTS\n",
    "\n",
    "# merge various dataframes above into a single dataframe by type\n",
    "merge_one = pd.merge(sla_df, num_compare_df, on='request_type_title', how='outer')\n",
    "merge_all = pd.merge(merge_one, days_compare_df, on='request_type_title', how='outer')\n",
    "\n",
    "# include just the columns we care about most\n",
    "show_less = merge_all[['request_type_title', 'num_issues', 'num_closed', 'median_days_create_to_close', 'sla_days_to_close', 'perc_within_sla', 'num_reopened']]\n",
    "\n",
    "# export as csv based on configurable printing variable; prints horizontally aligned by default with headers in row one\n",
    "if config['print_stacked']:\n",
    "    show_less.stack().to_csv(config['export_path'])\n",
    "else:\n",
    "    show_less.to_csv(config['export_path'])"
   ]
  }
 ],
 "metadata": {
  "kernelspec": {
   "display_name": "Python 3",
   "language": "python",
   "name": "python3"
  },
  "language_info": {
   "codemirror_mode": {
    "name": "ipython",
    "version": 3
   },
   "file_extension": ".py",
   "mimetype": "text/x-python",
   "name": "python",
   "nbconvert_exporter": "python",
   "pygments_lexer": "ipython3",
   "version": "3.6.0"
  }
 },
 "nbformat": 4,
 "nbformat_minor": 2
}
