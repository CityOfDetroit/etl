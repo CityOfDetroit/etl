{
 "cells": [
  {
   "cell_type": "code",
   "execution_count": 1,
   "metadata": {
    "collapsed": true
   },
   "outputs": [],
   "source": [
    "import simple_salesforce"
   ]
  },
  {
   "cell_type": "code",
   "execution_count": 2,
   "metadata": {
    "collapsed": true
   },
   "outputs": [],
   "source": [
    "from os import environ as env"
   ]
  },
  {
   "cell_type": "code",
   "execution_count": 4,
   "metadata": {
    "collapsed": false
   },
   "outputs": [],
   "source": [
    "SF = simple_salesforce.Salesforce(env['SF_USER'], env['SF_PASS'], env['SF_TOKEN'])"
   ]
  },
  {
   "cell_type": "code",
   "execution_count": 25,
   "metadata": {
    "collapsed": false
   },
   "outputs": [],
   "source": [
    "lookup = {\n",
    "    'Address__c': 'Address',\n",
    "    'DEMO_Planned_Knock_Down_Date__c': 'Demolition Date',\n",
    "    'Socrata_Reported_Price__c': 'Price',\n",
    "    'Parcel_ID__c': 'Parcel ID',\n",
    "    'Demo_Contractor_TEXT_ONLY__c': 'Contractor Name',\n",
    "    'ACCT_Latitude__c': 'Latitude',\n",
    "    'ACCT_Longitude__c': 'Longitude',\n",
    "    'Council_District__c': 'Council District',\n",
    "    'Non_HHF_Commercial_Demo__c': 'Commercial Building',\n",
    "    'Socrata_Price_Type__c': 'Price Type',\n",
    "    'DEMO_NTP_Date__c': 'Notice to Proceed Date',\n",
    "    'Socrata_Projected_Knocked_By_Date__c': 'Projected Demolished By Date',\n",
    "    'Neighborhood__c': 'Neighborhood'\n",
    "}"
   ]
  },
  {
   "cell_type": "code",
   "execution_count": 26,
   "metadata": {
    "collapsed": false
   },
   "outputs": [],
   "source": [
    "query = \"\"\"\n",
    "Select {} from Case where \n",
    "    Socrata_Projected_Knocked_By_Date__c != null AND \n",
    "    Socrata_Reported_Price__c > 0 AND \n",
    "    Demo_Contractor_TEXT_ONLY__c<>'' AND \n",
    "    Status='Demo Contracted'\n",
    "\"\"\".format(\",\".join(lookup.keys()))\n",
    "res = SF.query_all(query)"
   ]
  },
  {
   "cell_type": "code",
   "execution_count": 30,
   "metadata": {
    "collapsed": false
   },
   "outputs": [],
   "source": [
    "import pandas\n",
    "df = pandas.DataFrame.from_records(res['records'])\n",
    "df.rename(columns=lookup, inplace=True)"
   ]
  },
  {
   "cell_type": "code",
   "execution_count": 32,
   "metadata": {
    "collapsed": false
   },
   "outputs": [
    {
     "data": {
      "text/html": [
       "<div>\n",
       "<table border=\"1\" class=\"dataframe\">\n",
       "  <thead>\n",
       "    <tr style=\"text-align: right;\">\n",
       "      <th></th>\n",
       "      <th>attributes</th>\n",
       "      <th>Address</th>\n",
       "      <th>Demolition Date</th>\n",
       "      <th>Price</th>\n",
       "      <th>Parcel ID</th>\n",
       "      <th>Contractor Name</th>\n",
       "      <th>Latitude</th>\n",
       "      <th>Longitude</th>\n",
       "      <th>Council District</th>\n",
       "      <th>Commercial Building</th>\n",
       "      <th>Price Type</th>\n",
       "      <th>Notice to Proceed Date</th>\n",
       "      <th>Projected Demolished By Date</th>\n",
       "      <th>Neighborhood</th>\n",
       "    </tr>\n",
       "  </thead>\n",
       "  <tbody>\n",
       "    <tr>\n",
       "      <th>6</th>\n",
       "      <td>{'type': 'Case', 'url': '/services/data/v29.0/...</td>\n",
       "      <td>16521 San Juan</td>\n",
       "      <td>2017-06-27</td>\n",
       "      <td>8342.0</td>\n",
       "      <td>16026015.</td>\n",
       "      <td>Farrow Group</td>\n",
       "      <td>42.41263</td>\n",
       "      <td>-83.146263</td>\n",
       "      <td>2</td>\n",
       "      <td>No</td>\n",
       "      <td>Bid Price</td>\n",
       "      <td>2016-06-07</td>\n",
       "      <td>2017-07-04</td>\n",
       "      <td>Fitzgerald/Marygrove</td>\n",
       "    </tr>\n",
       "  </tbody>\n",
       "</table>\n",
       "</div>"
      ],
      "text/plain": [
       "                                          attributes         Address  \\\n",
       "6  {'type': 'Case', 'url': '/services/data/v29.0/...  16521 San Juan   \n",
       "\n",
       "  Demolition Date   Price  Parcel ID Contractor Name  Latitude  Longitude  \\\n",
       "6      2017-06-27  8342.0  16026015.    Farrow Group  42.41263 -83.146263   \n",
       "\n",
       "  Council District Commercial Building Price Type Notice to Proceed Date  \\\n",
       "6                2                  No  Bid Price             2016-06-07   \n",
       "\n",
       "  Projected Demolished By Date          Neighborhood  \n",
       "6                   2017-07-04  Fitzgerald/Marygrove  "
      ]
     },
     "execution_count": 32,
     "metadata": {},
     "output_type": "execute_result"
    }
   ],
   "source": [
    "df[df['Address'] == '16521 San Juan']"
   ]
  },
  {
   "cell_type": "code",
   "execution_count": null,
   "metadata": {
    "collapsed": true
   },
   "outputs": [],
   "source": []
  }
 ],
 "metadata": {
  "kernelspec": {
   "display_name": "Python 3",
   "language": "python",
   "name": "python3"
  },
  "language_info": {
   "codemirror_mode": {
    "name": "ipython",
    "version": 3
   },
   "file_extension": ".py",
   "mimetype": "text/x-python",
   "name": "python",
   "nbconvert_exporter": "python",
   "pygments_lexer": "ipython3",
   "version": "3.6.0"
  }
 },
 "nbformat": 4,
 "nbformat_minor": 2
}
