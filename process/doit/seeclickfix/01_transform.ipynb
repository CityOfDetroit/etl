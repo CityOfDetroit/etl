{
 "cells": [
  {
   "cell_type": "code",
   "execution_count": 1,
   "metadata": {
    "collapsed": false
   },
   "outputs": [],
   "source": [
    "import re\n",
    "import pandas as pd\n",
    "import numpy as np\n",
    "from datetime import datetime, timedelta\n",
    "\n",
    "# set better display\n",
    "pd.set_option('display.expand_frame_repr', False)"
   ]
  },
  {
   "cell_type": "code",
   "execution_count": 2,
   "metadata": {
    "collapsed": false
   },
   "outputs": [
    {
     "name": "stdout",
     "output_type": "stream",
     "text": [
      "(16431, 43) (14938, 5)\n"
     ]
    }
   ],
   "source": [
    "# import the SeeClickFix issues and comments csvs as dataframes\n",
    "issues_df = pd.read_csv('all_scf_issues.csv', encoding=\"latin1\", low_memory=False)\n",
    "comments_df = pd.read_csv('scf_issues_with_comments.csv', encoding=\"latin1\", low_memory=False)\n",
    "\n",
    "# check that dataframe dimensions (rows, cols) are as expected\n",
    "print(issues_df.shape, comments_df.shape)"
   ]
  },
  {
   "cell_type": "code",
   "execution_count": 3,
   "metadata": {
    "collapsed": true
   },
   "outputs": [],
   "source": [
    "# define dict of Service Level Agreements by type with days committed to close\n",
    "sla_days_to_close = {\n",
    "    'Abandoned Vehicle': 5,\n",
    "    'Blocked Catch Basin': 1,\n",
    "    'Curbside Solid Waste Issue': 7,\n",
    "    'DPW - Debris Removal - DPW USE ONLY': 0,\n",
    "    'DPW - Other environmental': 0,\n",
    "    'Dead Animal Removal': 3,\n",
    "    'Fire Hydrant Issue': 1,\n",
    "    'Illegal Dump Sites': 10,\n",
    "    'Illegal Dumping In Progress': 7,\n",
    "    'Manhole Cover Issue': 1,\n",
    "    'New LED Street Light Out': 7,\n",
    "    'Park Issue': 5,\n",
    "    'Potholes': 5,\n",
    "    'Residential Snow Removal Issue': 1,\n",
    "    'Rodent Extermination - DPW Only': 0,\n",
    "    'Running Water in a Home or Building': 4,\n",
    "    'Street Light Pole Down': 2,\n",
    "    'Traffic Sign Issue': 7,\n",
    "    'Traffic Signal Issue': 2,\n",
    "    'Tree Issue': 14,\n",
    "    'Water Main Break': 1 \n",
    "}\n",
    "\n",
    "# transform the SLA dict to a dataframe\n",
    "sla_df = pd.DataFrame(list(sla_days_to_close.items()), columns=['request_type_title', 'sla_days_to_close'])"
   ]
  },
  {
   "cell_type": "code",
   "execution_count": 4,
   "metadata": {
    "collapsed": false
   },
   "outputs": [
    {
     "data": {
      "text/html": [
       "<div>\n",
       "<table border=\"1\" class=\"dataframe\">\n",
       "  <thead>\n",
       "    <tr style=\"text-align: right;\">\n",
       "      <th></th>\n",
       "      <th>id</th>\n",
       "      <th>status</th>\n",
       "      <th>summary</th>\n",
       "      <th>description</th>\n",
       "      <th>rating</th>\n",
       "      <th>lat</th>\n",
       "      <th>lng</th>\n",
       "      <th>address</th>\n",
       "      <th>created_at</th>\n",
       "      <th>acknowledged_at</th>\n",
       "      <th>...</th>\n",
       "      <th>reporter_id</th>\n",
       "      <th>reporter_name</th>\n",
       "      <th>reporter_role</th>\n",
       "      <th>agent_id</th>\n",
       "      <th>agent_name</th>\n",
       "      <th>agent_role</th>\n",
       "      <th>request_type_id</th>\n",
       "      <th>request_type_title</th>\n",
       "      <th>canonical_issue_id</th>\n",
       "      <th>comment_type_issue_closed</th>\n",
       "    </tr>\n",
       "  </thead>\n",
       "  <tbody>\n",
       "    <tr>\n",
       "      <th>0</th>\n",
       "      <td>3126258</td>\n",
       "      <td>Archived</td>\n",
       "      <td>New LED Street Light Out</td>\n",
       "      <td>New historic replica light on the northwest co...</td>\n",
       "      <td>2</td>\n",
       "      <td>42.356047</td>\n",
       "      <td>-83.067835</td>\n",
       "      <td>410 West Warren Avenue Detroit, Michigan</td>\n",
       "      <td>2017-01-01T04:01:42-05:00</td>\n",
       "      <td>2017-01-03T07:57:52-05:00</td>\n",
       "      <td>...</td>\n",
       "      <td>1207068</td>\n",
       "      <td>Jefe</td>\n",
       "      <td>Registered User</td>\n",
       "      <td>1207068</td>\n",
       "      <td>Jefe</td>\n",
       "      <td>Registered User</td>\n",
       "      <td>16517</td>\n",
       "      <td>New LED Street Light Out</td>\n",
       "      <td>NaN</td>\n",
       "      <td>Thank you for reporting this issue to the City...</td>\n",
       "    </tr>\n",
       "    <tr>\n",
       "      <th>1</th>\n",
       "      <td>3126259</td>\n",
       "      <td>Archived</td>\n",
       "      <td>Traffic Sign Issue</td>\n",
       "      <td>Pedestrian crossing sign in the northbound lan...</td>\n",
       "      <td>3</td>\n",
       "      <td>42.360299</td>\n",
       "      <td>-83.068776</td>\n",
       "      <td>5470 Cass Avenue Detroit, Michigan</td>\n",
       "      <td>2017-01-01T04:10:34-05:00</td>\n",
       "      <td>2017-01-03T06:59:33-05:00</td>\n",
       "      <td>...</td>\n",
       "      <td>1207068</td>\n",
       "      <td>Jefe</td>\n",
       "      <td>Registered User</td>\n",
       "      <td>1207068</td>\n",
       "      <td>Jefe</td>\n",
       "      <td>Registered User</td>\n",
       "      <td>9123</td>\n",
       "      <td>Traffic Sign Issue</td>\n",
       "      <td>NaN</td>\n",
       "      <td>This message is to inform you that the issue y...</td>\n",
       "    </tr>\n",
       "    <tr>\n",
       "      <th>2</th>\n",
       "      <td>3126277</td>\n",
       "      <td>Acknowledged</td>\n",
       "      <td>Water Main Break</td>\n",
       "      <td>Frozen water about 2 blocks</td>\n",
       "      <td>2</td>\n",
       "      <td>42.346605</td>\n",
       "      <td>-83.137069</td>\n",
       "      <td>6659 Floyd Avenue Detroit, Michigan</td>\n",
       "      <td>2017-01-01T07:18:39-05:00</td>\n",
       "      <td>2017-01-01T07:25:21-05:00</td>\n",
       "      <td>...</td>\n",
       "      <td>1314738</td>\n",
       "      <td>Geretha Ridley</td>\n",
       "      <td>Registered User</td>\n",
       "      <td>1314738</td>\n",
       "      <td>Geretha Ridley</td>\n",
       "      <td>Registered User</td>\n",
       "      <td>8247</td>\n",
       "      <td>Water Main Break</td>\n",
       "      <td>NaN</td>\n",
       "      <td></td>\n",
       "    </tr>\n",
       "  </tbody>\n",
       "</table>\n",
       "<p>3 rows × 44 columns</p>\n",
       "</div>"
      ],
      "text/plain": [
       "        id        status                   summary                                        description  rating        lat        lng                                   address                 created_at            acknowledged_at                        ...                         reporter_id   reporter_name    reporter_role  agent_id      agent_name       agent_role request_type_id        request_type_title  canonical_issue_id                          comment_type_issue_closed\n",
       "0  3126258      Archived  New LED Street Light Out  New historic replica light on the northwest co...       2  42.356047 -83.067835  410 West Warren Avenue Detroit, Michigan  2017-01-01T04:01:42-05:00  2017-01-03T07:57:52-05:00                        ...                             1207068            Jefe  Registered User   1207068            Jefe  Registered User           16517  New LED Street Light Out                 NaN  Thank you for reporting this issue to the City...\n",
       "1  3126259      Archived        Traffic Sign Issue  Pedestrian crossing sign in the northbound lan...       3  42.360299 -83.068776        5470 Cass Avenue Detroit, Michigan  2017-01-01T04:10:34-05:00  2017-01-03T06:59:33-05:00                        ...                             1207068            Jefe  Registered User   1207068            Jefe  Registered User            9123        Traffic Sign Issue                 NaN  This message is to inform you that the issue y...\n",
       "2  3126277  Acknowledged          Water Main Break                       Frozen water about 2 blocks        2  42.346605 -83.137069       6659 Floyd Avenue Detroit, Michigan  2017-01-01T07:18:39-05:00  2017-01-01T07:25:21-05:00                        ...                             1314738  Geretha Ridley  Registered User   1314738  Geretha Ridley  Registered User            8247          Water Main Break                 NaN                                                   \n",
       "\n",
       "[3 rows x 44 columns]"
      ]
     },
     "execution_count": 4,
     "metadata": {},
     "output_type": "execute_result"
    }
   ],
   "source": [
    "# join issues to comments\n",
    "comments_df = comments_df[['id','comment_type_issue_closed']]\n",
    "scf_df = pd.merge(issues_df, comments_df, on=\"id\", how=\"left\")\n",
    "\n",
    "# replace NaN comments with empty string to be able to use regex\n",
    "scf_df['comment_type_issue_closed'] = scf_df['comment_type_issue_closed'].fillna('')\n",
    "\n",
    "# preview df\n",
    "scf_df[:3]"
   ]
  },
  {
   "cell_type": "code",
   "execution_count": 5,
   "metadata": {
    "collapsed": false
   },
   "outputs": [],
   "source": [
    "# define list of key words that indicate issues are out of jurisdiction\n",
    "keywords = [\n",
    "    \"jurisdiction\",\n",
    "    \"Jurisdiction\",\n",
    "    \"unable to locate\",\n",
    "    \"invalid\",\n",
    "    \"DTE\",\n",
    "    \"referred\",\n",
    "    \"Detroit Land Bank\",\n",
    "    \"Belle Isle\",\n",
    "    \"Wayne\",\n",
    "    \"State\",\n",
    "    \"MDOT\"]"
   ]
  },
  {
   "cell_type": "code",
   "execution_count": 6,
   "metadata": {
    "collapsed": true
   },
   "outputs": [],
   "source": [
    "# HELPER FUNCTIONS\n",
    "\n",
    "def getDate(obj):\n",
    "    \"\"\" Reformats object as mm-dd-yyyy \"\"\"\n",
    "    return datetime.strptime(obj[:-6], '%Y-%m-%dT%H:%M:%S').strftime('%m-%d-%Y')\n",
    "\n",
    "def makeFloat(td):\n",
    "    \"\"\" Converts a timedelta to a float, eg 2 days 12:00:00 becomes 2.5 \"\"\"\n",
    "    return td.total_seconds() / timedelta (days=1).total_seconds()\n",
    "\n",
    "def slaCheck(row):\n",
    "    \"\"\" Checks if issues are closed within their SLA, returns 1 if yes/under, 0 if no/over, or NaN if not yet closed \"\"\"\n",
    "    if (row['days_create_to_close'] > 0):\n",
    "        if row['days_create_to_close'] < sla_days_to_close[row['request_type_title']]:\n",
    "            return 1\n",
    "        return 0\n",
    "    pass\n",
    "\n",
    "def trimTimezone(obj):\n",
    "    \"\"\" Trims timezone off end of datetime \"\"\"\n",
    "    return datetime.strptime(obj[:-6], '%Y-%m-%dT%H:%M:%S')\n",
    "\n",
    "def jurisdictionCheck(string):\n",
    "    \"\"\" Checks if issues are closed because they're out of City jurisdiction based on comment text, returns 1 if yes \"\"\"\n",
    "    found_keywords = re.findall(r\"(?=(\"+'|'.join(keywords)+r\"))\", string)\n",
    "    if len(found_keywords) > 0:\n",
    "        return 1\n",
    "    elif len(found_keywords) < 1:\n",
    "        return 0\n",
    "    else:\n",
    "        pass"
   ]
  },
  {
   "cell_type": "code",
   "execution_count": 7,
   "metadata": {
    "collapsed": false
   },
   "outputs": [
    {
     "name": "stdout",
     "output_type": "stream",
     "text": [
      "(16438, 52)\n"
     ]
    }
   ],
   "source": [
    "# NEW COLUMNS\n",
    "\n",
    "# add 1 new col, returns mm-dd-yyyy object\n",
    "scf_df['created_at_date'] = scf_df['created_at'].apply(lambda x: getDate(x))\n",
    "\n",
    "# add 2 new cols, transforms an object to datetime64[ns] type\n",
    "scf_df['created_at_datetime'] = pd.to_datetime(scf_df['created_at'])\n",
    "scf_df['closed_at_datetime'] = pd.to_datetime(scf_df['closed_at'])\n",
    "\n",
    "# add 1 new col with trimmed time to index by\n",
    "scf_df['time_index'] = scf_df['created_at'].apply(lambda x: trimTimezone(x))\n",
    "\n",
    "# add 1 new col with diff value, returns timedelta or NaT if the issue is not closed yet\n",
    "scf_df['diff_create_to_close'] = scf_df['closed_at_datetime'] - scf_df['created_at_datetime']\n",
    "\n",
    "# add 1 new col with fractional days, returns float or NaN if the issue is not closed yet\n",
    "scf_df['days_create_to_close'] = scf_df['diff_create_to_close'].apply(lambda x: makeFloat(x))\n",
    "\n",
    "# add 1 new col, indicates whether a closed issue is within its SLA\n",
    "scf_df['within_sla_bool'] = scf_df.apply(lambda row: slaCheck(row), axis=1)\n",
    "\n",
    "# add 1 new col, indicates whether issue was closed because beyond jurisdiction\n",
    "scf_df['beyond_jurisdiction'] = scf_df['comment_type_issue_closed'].apply(lambda x: jurisdictionCheck(x))\n",
    "\n",
    "# check that we successfully added 8 new cols\n",
    "print(scf_df.shape)"
   ]
  }
 ],
 "metadata": {
  "kernelspec": {
   "display_name": "Python 3",
   "language": "python",
   "name": "python3"
  },
  "language_info": {
   "codemirror_mode": {
    "name": "ipython",
    "version": 3
   },
   "file_extension": ".py",
   "mimetype": "text/x-python",
   "name": "python",
   "nbconvert_exporter": "python",
   "pygments_lexer": "ipython3",
   "version": "3.6.0"
  }
 },
 "nbformat": 4,
 "nbformat_minor": 2
}
