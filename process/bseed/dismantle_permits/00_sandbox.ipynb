{
 "cells": [
  {
   "cell_type": "code",
   "execution_count": 1,
   "metadata": {},
   "outputs": [
    {
     "name": "stdout",
     "output_type": "stream",
     "text": [
      "<sqlalchemy.engine.base.Connection object at 0x00000000049FEE80>\n"
     ]
    }
   ],
   "source": [
    "import sqlalchemy\n",
    "import cx_Oracle\n",
    "\n",
    "engine = sqlalchemy.create_engine('oracle://{}:{}@{}:{}/{}')\n",
    "conn = engine.connect()\n",
    "print(conn)"
   ]
  },
  {
   "cell_type": "code",
   "execution_count": 2,
   "metadata": {
    "collapsed": true
   },
   "outputs": [],
   "source": [
    "import pandas"
   ]
  },
  {
   "cell_type": "code",
   "execution_count": 3,
   "metadata": {},
   "outputs": [
    {
     "name": "stdout",
     "output_type": "stream",
     "text": [
      "(44760, 37)\n"
     ]
    },
    {
     "data": {
      "text/html": [
       "<div>\n",
       "<style>\n",
       "    .dataframe thead tr:only-child th {\n",
       "        text-align: right;\n",
       "    }\n",
       "\n",
       "    .dataframe thead th {\n",
       "        text-align: left;\n",
       "    }\n",
       "\n",
       "    .dataframe tbody tr th {\n",
       "        vertical-align: top;\n",
       "    }\n",
       "</style>\n",
       "<table border=\"1\" class=\"dataframe\">\n",
       "  <thead>\n",
       "    <tr style=\"text-align: right;\">\n",
       "      <th></th>\n",
       "      <th>csa_id</th>\n",
       "      <th>case_type</th>\n",
       "      <th>actn_menu_id</th>\n",
       "      <th>actn_code</th>\n",
       "      <th>actn_version_no</th>\n",
       "      <th>csm_caseno</th>\n",
       "      <th>action_description</th>\n",
       "      <th>csa_creation_date</th>\n",
       "      <th>csa_date1</th>\n",
       "      <th>csa_date2</th>\n",
       "      <th>...</th>\n",
       "      <th>csa_y_coord</th>\n",
       "      <th>csa_ivr_confirm_no</th>\n",
       "      <th>csa_submitted_from_wireless</th>\n",
       "      <th>csa_start_mileage</th>\n",
       "      <th>csa_end_mileage</th>\n",
       "      <th>csa_total_mileage</th>\n",
       "      <th>csa_vehicle_id</th>\n",
       "      <th>csa_start_time</th>\n",
       "      <th>csa_end_time</th>\n",
       "      <th>csa_total_time</th>\n",
       "    </tr>\n",
       "  </thead>\n",
       "  <tbody>\n",
       "    <tr>\n",
       "      <th>0</th>\n",
       "      <td>201605181601105180</td>\n",
       "      <td>DNG</td>\n",
       "      <td>L</td>\n",
       "      <td>50</td>\n",
       "      <td>1</td>\n",
       "      <td>DNG2012-00302</td>\n",
       "      <td>Open Hole Demo Inspection</td>\n",
       "      <td>2016-05-18 16:01:10</td>\n",
       "      <td>2016-05-18</td>\n",
       "      <td>2016-05-19</td>\n",
       "      <td>...</td>\n",
       "      <td>None</td>\n",
       "      <td>None</td>\n",
       "      <td>None</td>\n",
       "      <td>None</td>\n",
       "      <td>None</td>\n",
       "      <td>None</td>\n",
       "      <td>None</td>\n",
       "      <td>None</td>\n",
       "      <td>None</td>\n",
       "      <td>None</td>\n",
       "    </tr>\n",
       "    <tr>\n",
       "      <th>1</th>\n",
       "      <td>201605181601297830</td>\n",
       "      <td>BLD</td>\n",
       "      <td>C</td>\n",
       "      <td>150</td>\n",
       "      <td>1</td>\n",
       "      <td>BLD2016-03247</td>\n",
       "      <td>Open Hole Demo Inspection</td>\n",
       "      <td>2016-05-18 16:01:29</td>\n",
       "      <td>2016-05-18</td>\n",
       "      <td>2016-05-19</td>\n",
       "      <td>...</td>\n",
       "      <td>None</td>\n",
       "      <td>None</td>\n",
       "      <td>None</td>\n",
       "      <td>None</td>\n",
       "      <td>None</td>\n",
       "      <td>None</td>\n",
       "      <td>None</td>\n",
       "      <td>None</td>\n",
       "      <td>None</td>\n",
       "      <td>None</td>\n",
       "    </tr>\n",
       "    <tr>\n",
       "      <th>2</th>\n",
       "      <td>201605181602105850</td>\n",
       "      <td>DNG</td>\n",
       "      <td>L</td>\n",
       "      <td>50</td>\n",
       "      <td>1</td>\n",
       "      <td>DNG2015-00589</td>\n",
       "      <td>Open Hole Demo Inspection</td>\n",
       "      <td>2016-05-18 16:02:10</td>\n",
       "      <td>2016-05-18</td>\n",
       "      <td>2016-05-19</td>\n",
       "      <td>...</td>\n",
       "      <td>None</td>\n",
       "      <td>None</td>\n",
       "      <td>None</td>\n",
       "      <td>None</td>\n",
       "      <td>None</td>\n",
       "      <td>None</td>\n",
       "      <td>None</td>\n",
       "      <td>None</td>\n",
       "      <td>None</td>\n",
       "      <td>None</td>\n",
       "    </tr>\n",
       "  </tbody>\n",
       "</table>\n",
       "<p>3 rows × 37 columns</p>\n",
       "</div>"
      ],
      "text/plain": [
       "               csa_id case_type actn_menu_id actn_code  actn_version_no  \\\n",
       "0  201605181601105180       DNG            L        50                1   \n",
       "1  201605181601297830       BLD            C       150                1   \n",
       "2  201605181602105850       DNG            L        50                1   \n",
       "\n",
       "      csm_caseno          action_description   csa_creation_date  csa_date1  \\\n",
       "0  DNG2012-00302  Open Hole Demo Inspection  2016-05-18 16:01:10 2016-05-18   \n",
       "1  BLD2016-03247  Open Hole Demo Inspection  2016-05-18 16:01:29 2016-05-18   \n",
       "2  DNG2015-00589  Open Hole Demo Inspection  2016-05-18 16:02:10 2016-05-18   \n",
       "\n",
       "   csa_date2      ...       csa_y_coord csa_ivr_confirm_no  \\\n",
       "0 2016-05-19      ...              None               None   \n",
       "1 2016-05-19      ...              None               None   \n",
       "2 2016-05-19      ...              None               None   \n",
       "\n",
       "  csa_submitted_from_wireless csa_start_mileage csa_end_mileage  \\\n",
       "0                        None              None            None   \n",
       "1                        None              None            None   \n",
       "2                        None              None            None   \n",
       "\n",
       "  csa_total_mileage csa_vehicle_id csa_start_time csa_end_time csa_total_time  \n",
       "0              None           None           None         None           None  \n",
       "1              None           None           None         None           None  \n",
       "2              None           None           None         None           None  \n",
       "\n",
       "[3 rows x 37 columns]"
      ]
     },
     "execution_count": 3,
     "metadata": {},
     "output_type": "execute_result"
    }
   ],
   "source": [
    "# get 3 key types of inspections after 01/2014 from CASE_ACTION\n",
    "actions = conn.execute(\"select * from CASE_ACTION where CSA_DATE3 > DATE '2014-01-01' and ACTION_DESCRIPTION in ('Final Grade Inspection', 'Open Hole Demo Inspection ', 'Winter Grade Inspection')\")\n",
    "caseaction_df = pandas.DataFrame(actions.fetchall())\n",
    "caseaction_df.columns = actions.keys()\n",
    "\n",
    "print(caseaction_df.shape)\n",
    "caseaction_df[:3]"
   ]
  },
  {
   "cell_type": "code",
   "execution_count": 4,
   "metadata": {},
   "outputs": [
    {
     "data": {
      "text/plain": [
       "array(['DNG', 'BLD', 'MRC'], dtype=object)"
      ]
     },
     "execution_count": 4,
     "metadata": {},
     "output_type": "execute_result"
    }
   ],
   "source": [
    "# what types of cases do we capture in actions? EMGs?\n",
    "caseaction_df['case_type'].unique()"
   ]
  },
  {
   "cell_type": "code",
   "execution_count": 5,
   "metadata": {},
   "outputs": [
    {
     "name": "stdout",
     "output_type": "stream",
     "text": [
      "(1080010, 5)\n"
     ]
    },
    {
     "data": {
      "text/html": [
       "<div>\n",
       "<style>\n",
       "    .dataframe thead tr:only-child th {\n",
       "        text-align: right;\n",
       "    }\n",
       "\n",
       "    .dataframe thead th {\n",
       "        text-align: left;\n",
       "    }\n",
       "\n",
       "    .dataframe tbody tr th {\n",
       "        vertical-align: top;\n",
       "    }\n",
       "</style>\n",
       "<table border=\"1\" class=\"dataframe\">\n",
       "  <thead>\n",
       "    <tr style=\"text-align: right;\">\n",
       "      <th></th>\n",
       "      <th>csm_caseno</th>\n",
       "      <th>prc_avp_no</th>\n",
       "      <th>prc_parcel_no</th>\n",
       "      <th>csp_updated</th>\n",
       "      <th>csp_updateby</th>\n",
       "    </tr>\n",
       "  </thead>\n",
       "  <tbody>\n",
       "    <tr>\n",
       "      <th>0</th>\n",
       "      <td>ELE2000-04999</td>\n",
       "      <td>0</td>\n",
       "      <td>21 62539.</td>\n",
       "      <td>2000-10-25</td>\n",
       "      <td>L-SB</td>\n",
       "    </tr>\n",
       "    <tr>\n",
       "      <th>1</th>\n",
       "      <td>ELE2000-05000</td>\n",
       "      <td>0</td>\n",
       "      <td>15 2525.003</td>\n",
       "      <td>2000-10-25</td>\n",
       "      <td>L-SB</td>\n",
       "    </tr>\n",
       "    <tr>\n",
       "      <th>2</th>\n",
       "      <td>ELE2000-05001</td>\n",
       "      <td>0</td>\n",
       "      <td>0</td>\n",
       "      <td>2000-10-25</td>\n",
       "      <td>L-SB</td>\n",
       "    </tr>\n",
       "  </tbody>\n",
       "</table>\n",
       "</div>"
      ],
      "text/plain": [
       "      csm_caseno  prc_avp_no prc_parcel_no csp_updated csp_updateby\n",
       "0  ELE2000-04999           0     21 62539.  2000-10-25         L-SB\n",
       "1  ELE2000-05000           0   15 2525.003  2000-10-25         L-SB\n",
       "2  ELE2000-05001           0             0  2000-10-25         L-SB"
      ]
     },
     "execution_count": 5,
     "metadata": {},
     "output_type": "execute_result"
    }
   ],
   "source": [
    "# get everything from CASE_PARCEL\n",
    "parcels = conn.execute(\"select * from CASE_PARCEL\")\n",
    "caseparcel_df = pandas.DataFrame(parcels.fetchall())\n",
    "caseparcel_df.columns = parcels.keys()\n",
    "\n",
    "print(caseparcel_df.shape)\n",
    "caseparcel_df[:3]"
   ]
  },
  {
   "cell_type": "code",
   "execution_count": 6,
   "metadata": {},
   "outputs": [
    {
     "name": "stdout",
     "output_type": "stream",
     "text": [
      "(44863, 41)\n"
     ]
    }
   ],
   "source": [
    "# join actions to parcels\n",
    "action_parcels_df = caseaction_df.merge(caseparcel_df, on='csm_caseno', how='inner')\n",
    "\n",
    "print(action_parcels_df.shape)"
   ]
  },
  {
   "cell_type": "code",
   "execution_count": 7,
   "metadata": {
    "collapsed": true
   },
   "outputs": [],
   "source": [
    "# clean Tidemark's parcel nums to standard format\n",
    "def clean_pnum(pnum):\n",
    "    # it's zeroes; return nothing\n",
    "    if pnum in ['0', '00', '000']:\n",
    "        return None\n",
    "    \n",
    "    # there's a dot with stuff after it\n",
    "    if '.' in pnum and pnum[-1] != '.':\n",
    "        end = pnum[pnum.find('.'):]\n",
    "        beginning = pnum.split('.')[0]\n",
    "    # there's a dot at the very end\n",
    "    elif '.' in pnum and pnum[-1] == '.':\n",
    "        end = pnum[-1]\n",
    "        beginning = pnum[:-1]\n",
    "    # there's a dash with stuff after it\n",
    "    elif '-' in pnum and pnum[-1] != '-':\n",
    "        end = pnum[pnum.find('-'):]\n",
    "        beginning = pnum.split('-')[0]\n",
    "    else:\n",
    "        end = ''\n",
    "        beginning = pnum\n",
    "    \n",
    "    # only a few of these cases that don't have a space\n",
    "    if ' ' not in beginning and len(beginning) == 8:\n",
    "        return beginning + end\n",
    "    elif ' ' not in beginning and len(beginning) < 8:\n",
    "        return beginning.zfill(8) + end\n",
    "    \n",
    "    # most will have a space\n",
    "    if ' ' in beginning:\n",
    "        ward = beginning.split(' ')[0]\n",
    "        lot = beginning.split(' ')[1]\n",
    "        if len(ward) == 1:\n",
    "            ward = ward.zfill(2)\n",
    "        return ward + lot.zfill(6) + end"
   ]
  },
  {
   "cell_type": "code",
   "execution_count": 8,
   "metadata": {},
   "outputs": [
    {
     "name": "stdout",
     "output_type": "stream",
     "text": [
      "22024234-48\n",
      "16042779.\n",
      "01005272.\n",
      "09011029.\n",
      "08008268-70\n",
      "20005882.001\n",
      "22109754.\n",
      "14012936.002L\n",
      "04001939.\n",
      "22101006.\n",
      "01004148-54\n"
     ]
    }
   ],
   "source": [
    "# spot check\n",
    "tm_pnums = [\n",
    "    '22 24234-48',\n",
    "    '16 42779.',\n",
    "    '1 5272.',\n",
    "    '9 11029.',\n",
    "    '8 8268-70',\n",
    "    '20 5882.001',\n",
    "    '22 109754.',\n",
    "    '14 12936.002L',\n",
    "    '4 1939.',\n",
    "    '22 101006.',\n",
    "    '1 4148-54'\n",
    "]\n",
    "\n",
    "for i in tm_pnums:\n",
    "    print(clean_pnum(i))"
   ]
  },
  {
   "cell_type": "code",
   "execution_count": 9,
   "metadata": {
    "collapsed": true
   },
   "outputs": [],
   "source": [
    "# add a new col with clean parcels\n",
    "action_parcels_df['clean_parcel_no'] = action_parcels_df['prc_parcel_no'].apply(lambda x: clean_pnum(x))"
   ]
  },
  {
   "cell_type": "code",
   "execution_count": 10,
   "metadata": {},
   "outputs": [
    {
     "data": {
      "text/html": [
       "<div>\n",
       "<style>\n",
       "    .dataframe thead tr:only-child th {\n",
       "        text-align: right;\n",
       "    }\n",
       "\n",
       "    .dataframe thead th {\n",
       "        text-align: left;\n",
       "    }\n",
       "\n",
       "    .dataframe tbody tr th {\n",
       "        vertical-align: top;\n",
       "    }\n",
       "</style>\n",
       "<table border=\"1\" class=\"dataframe\">\n",
       "  <thead>\n",
       "    <tr style=\"text-align: right;\">\n",
       "      <th></th>\n",
       "      <th>csa_id</th>\n",
       "      <th>case_type</th>\n",
       "      <th>actn_menu_id</th>\n",
       "      <th>actn_code</th>\n",
       "      <th>actn_version_no</th>\n",
       "      <th>csm_caseno</th>\n",
       "      <th>action_description</th>\n",
       "      <th>csa_creation_date</th>\n",
       "      <th>csa_date1</th>\n",
       "      <th>csa_date2</th>\n",
       "      <th>...</th>\n",
       "      <th>csa_vehicle_id</th>\n",
       "      <th>csa_start_time</th>\n",
       "      <th>csa_end_time</th>\n",
       "      <th>csa_total_time</th>\n",
       "      <th>prc_avp_no</th>\n",
       "      <th>prc_parcel_no</th>\n",
       "      <th>csp_updated</th>\n",
       "      <th>csp_updateby</th>\n",
       "      <th>clean_parcel_no</th>\n",
       "      <th>unique_id</th>\n",
       "    </tr>\n",
       "  </thead>\n",
       "  <tbody>\n",
       "    <tr>\n",
       "      <th>0</th>\n",
       "      <td>201605181601105180</td>\n",
       "      <td>DNG</td>\n",
       "      <td>L</td>\n",
       "      <td>50</td>\n",
       "      <td>1</td>\n",
       "      <td>DNG2012-00302</td>\n",
       "      <td>Open Hole Demo Inspection</td>\n",
       "      <td>2016-05-18 16:01:10</td>\n",
       "      <td>2016-05-18</td>\n",
       "      <td>2016-05-19</td>\n",
       "      <td>...</td>\n",
       "      <td>None</td>\n",
       "      <td>None</td>\n",
       "      <td>None</td>\n",
       "      <td>None</td>\n",
       "      <td>0</td>\n",
       "      <td>22 24234-48</td>\n",
       "      <td>2012-01-11 11:17:22</td>\n",
       "      <td>W-DS</td>\n",
       "      <td>22024234-48</td>\n",
       "      <td>201605181601105180_22 24234-48</td>\n",
       "    </tr>\n",
       "    <tr>\n",
       "      <th>1</th>\n",
       "      <td>201606171540288560</td>\n",
       "      <td>DNG</td>\n",
       "      <td>L</td>\n",
       "      <td>70</td>\n",
       "      <td>1</td>\n",
       "      <td>DNG2012-00302</td>\n",
       "      <td>Final Grade Inspection</td>\n",
       "      <td>2016-06-17 15:40:28</td>\n",
       "      <td>2016-06-17</td>\n",
       "      <td>2016-06-20</td>\n",
       "      <td>...</td>\n",
       "      <td>None</td>\n",
       "      <td>None</td>\n",
       "      <td>None</td>\n",
       "      <td>None</td>\n",
       "      <td>0</td>\n",
       "      <td>22 24234-48</td>\n",
       "      <td>2012-01-11 11:17:22</td>\n",
       "      <td>W-DS</td>\n",
       "      <td>22024234-48</td>\n",
       "      <td>201606171540288560_22 24234-48</td>\n",
       "    </tr>\n",
       "    <tr>\n",
       "      <th>2</th>\n",
       "      <td>201605240946189630</td>\n",
       "      <td>DNG</td>\n",
       "      <td>L</td>\n",
       "      <td>50</td>\n",
       "      <td>1</td>\n",
       "      <td>DNG2012-00302</td>\n",
       "      <td>Open Hole Demo Inspection</td>\n",
       "      <td>2016-05-24 09:46:18</td>\n",
       "      <td>2016-05-24</td>\n",
       "      <td>2016-05-24</td>\n",
       "      <td>...</td>\n",
       "      <td>None</td>\n",
       "      <td>None</td>\n",
       "      <td>None</td>\n",
       "      <td>None</td>\n",
       "      <td>0</td>\n",
       "      <td>22 24234-48</td>\n",
       "      <td>2012-01-11 11:17:22</td>\n",
       "      <td>W-DS</td>\n",
       "      <td>22024234-48</td>\n",
       "      <td>201605240946189630_22 24234-48</td>\n",
       "    </tr>\n",
       "  </tbody>\n",
       "</table>\n",
       "<p>3 rows × 43 columns</p>\n",
       "</div>"
      ],
      "text/plain": [
       "               csa_id case_type actn_menu_id actn_code  actn_version_no  \\\n",
       "0  201605181601105180       DNG            L        50                1   \n",
       "1  201606171540288560       DNG            L        70                1   \n",
       "2  201605240946189630       DNG            L        50                1   \n",
       "\n",
       "      csm_caseno          action_description   csa_creation_date  csa_date1  \\\n",
       "0  DNG2012-00302  Open Hole Demo Inspection  2016-05-18 16:01:10 2016-05-18   \n",
       "1  DNG2012-00302      Final Grade Inspection 2016-06-17 15:40:28 2016-06-17   \n",
       "2  DNG2012-00302  Open Hole Demo Inspection  2016-05-24 09:46:18 2016-05-24   \n",
       "\n",
       "   csa_date2               ...               csa_vehicle_id csa_start_time  \\\n",
       "0 2016-05-19               ...                         None           None   \n",
       "1 2016-06-20               ...                         None           None   \n",
       "2 2016-05-24               ...                         None           None   \n",
       "\n",
       "  csa_end_time csa_total_time prc_avp_no prc_parcel_no         csp_updated  \\\n",
       "0         None           None          0   22 24234-48 2012-01-11 11:17:22   \n",
       "1         None           None          0   22 24234-48 2012-01-11 11:17:22   \n",
       "2         None           None          0   22 24234-48 2012-01-11 11:17:22   \n",
       "\n",
       "  csp_updateby clean_parcel_no                       unique_id  \n",
       "0         W-DS     22024234-48  201605181601105180_22 24234-48  \n",
       "1         W-DS     22024234-48  201606171540288560_22 24234-48  \n",
       "2         W-DS     22024234-48  201605240946189630_22 24234-48  \n",
       "\n",
       "[3 rows x 43 columns]"
      ]
     },
     "execution_count": 10,
     "metadata": {},
     "output_type": "execute_result"
    }
   ],
   "source": [
    "# add a new col with a unique id\n",
    "action_parcels_df['unique_id'] = action_parcels_df['csa_id'] + \"_\" + action_parcels_df['prc_parcel_no']\n",
    "action_parcels_df[:3]"
   ]
  },
  {
   "cell_type": "code",
   "execution_count": 11,
   "metadata": {
    "collapsed": true
   },
   "outputs": [],
   "source": [
    "# sort df by inspection date\n",
    "action_parcels_df = action_parcels_df.sort_values(by=['csa_date3'], ascending=[False])"
   ]
  },
  {
   "cell_type": "code",
   "execution_count": 13,
   "metadata": {
    "collapsed": true
   },
   "outputs": [],
   "source": [
    "# write it to a csv or send it to postgres or whatever"
   ]
  }
 ],
 "metadata": {
  "kernelspec": {
   "display_name": "Python 3",
   "language": "python",
   "name": "python3"
  },
  "language_info": {
   "codemirror_mode": {
    "name": "ipython",
    "version": 3
   },
   "file_extension": ".py",
   "mimetype": "text/x-python",
   "name": "python",
   "nbconvert_exporter": "python",
   "pygments_lexer": "ipython3",
   "version": "3.6.1"
  }
 },
 "nbformat": 4,
 "nbformat_minor": 2
}
